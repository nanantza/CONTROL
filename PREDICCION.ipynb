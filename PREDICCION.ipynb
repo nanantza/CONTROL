{
 "cells": [
  {
   "cell_type": "code",
   "execution_count": 2,
   "metadata": {},
   "outputs": [],
   "source": [
    "import pandas as pd\n",
    "import numpy as np"
   ]
  },
  {
   "cell_type": "code",
   "execution_count": 3,
   "metadata": {},
   "outputs": [
    {
     "name": "stdout",
     "output_type": "stream",
     "text": [
      "             precision    recall  f1-score   support\n",
      "\n",
      "          0       0.84      0.90      0.87      1355\n",
      "          1       0.95      0.92      0.93      2799\n",
      "\n",
      "avg / total       0.91      0.91      0.91      4154\n",
      "\n"
     ]
    }
   ],
   "source": [
    "datospet = pd.read_csv('../DATOS PET/DATOS_TODOS.csv')\n",
    "datospet = datospet.replace(np.nan,\"0\")\n",
    "\n",
    "#Datos de entrada 'X' y salida 'y'\n",
    "X = datospet[['DTBZ', 'RAC', 'REGION']]\n",
    "y = datospet['ESTADO']\n",
    "\n",
    "from sklearn.model_selection import train_test_split\n",
    "X_train, X_test, y_train, y_test = train_test_split(X, y)\n",
    "\n",
    "from sklearn.preprocessing import StandardScaler\n",
    "scaler = StandardScaler()\n",
    "scaler.fit(X_train)\n",
    "X_train = scaler.transform(X_train)\n",
    "X_test = scaler.transform(X_test)\n",
    "\n",
    "#Importa el clasificador de Redes neuronales y variables del clasificador\n",
    "from sklearn.neural_network import MLPClassifier\n",
    "#mlp=MLPClassifier(hidden_layer_sizes=(12,12,12), max_iter=500, alpha=0.0001, solver='adam', random_state=1, tol=0.000000001)\n",
    "mlp = MLPClassifier(hidden_layer_sizes=(6,6,6,6),solver='adam',max_iter=6000)\n",
    "\n",
    "mlp.fit(X_train, y_train)\n",
    "predictions=mlp.predict(X_test)\n",
    "\n",
    "from sklearn.metrics import classification_report\n",
    "print (classification_report(y_test, predictions))"
   ]
  },
  {
   "cell_type": "code",
   "execution_count": null,
   "metadata": {},
   "outputs": [],
   "source": []
  }
 ],
 "metadata": {
  "kernelspec": {
   "display_name": "Python 3",
   "language": "python",
   "name": "python3"
  },
  "language_info": {
   "codemirror_mode": {
    "name": "ipython",
    "version": 3
   },
   "file_extension": ".py",
   "mimetype": "text/x-python",
   "name": "python",
   "nbconvert_exporter": "python",
   "pygments_lexer": "ipython3",
   "version": "3.6.6"
  }
 },
 "nbformat": 4,
 "nbformat_minor": 2
}
